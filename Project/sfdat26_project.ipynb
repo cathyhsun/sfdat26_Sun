{
 "cells": [
  {
   "cell_type": "code",
   "execution_count": 17,
   "metadata": {
    "collapsed": false
   },
   "outputs": [],
   "source": [
    "import pandas as pd\n",
    "import numpy as np\n",
    "import matplotlib.pyplot as plt\n",
    "from sklearn.neighbors import KNeighborsClassifier\n",
    "from sklearn.cross_validation import train_test_split, cross_val_score\n",
    "from sklearn.feature_extraction.text import CountVectorizer, TfidfVectorizer\n",
    "from sklearn import metrics\n",
    "from textblob import TextBlob, Word\n",
    "from sklearn.pipeline import Pipeline, FeatureUnion, make_pipeline, make_union\n",
    "from sklearn.naive_bayes import MultinomialNB\n",
    "from sklearn.ensemble import RandomForestClassifier\n",
    "from sklearn.feature_selection import SelectKBest\n",
    "from sklearn.linear_model import LogisticRegression\n",
    "from sklearn.grid_search import GridSearchCV\n",
    "\n",
    "%matplotlib inline"
   ]
  },
  {
   "cell_type": "code",
   "execution_count": 18,
   "metadata": {
    "collapsed": false
   },
   "outputs": [
    {
     "data": {
      "text/html": [
       "<div>\n",
       "<table border=\"1\" class=\"dataframe\">\n",
       "  <thead>\n",
       "    <tr style=\"text-align: right;\">\n",
       "      <th></th>\n",
       "      <th>time</th>\n",
       "      <th>day_of_week</th>\n",
       "      <th>city</th>\n",
       "      <th>country</th>\n",
       "      <th>channel</th>\n",
       "      <th>status</th>\n",
       "      <th>game</th>\n",
       "      <th>avg_ccu</th>\n",
       "      <th>avg_chat_activity</th>\n",
       "      <th>preliminary_tag</th>\n",
       "      <th>community</th>\n",
       "    </tr>\n",
       "  </thead>\n",
       "  <tbody>\n",
       "    <tr>\n",
       "      <th>0</th>\n",
       "      <td>6/26/2016 13:31</td>\n",
       "      <td>0</td>\n",
       "      <td>San Francisco</td>\n",
       "      <td>US</td>\n",
       "      <td>faceittv</td>\n",
       "      <td>ECS Season 1 Wembley Finals - Luminosity vs. G...</td>\n",
       "      <td>Counter-Strike: Global Offensive</td>\n",
       "      <td>124222</td>\n",
       "      <td>863</td>\n",
       "      <td>non_community</td>\n",
       "      <td>0.0</td>\n",
       "    </tr>\n",
       "    <tr>\n",
       "      <th>1</th>\n",
       "      <td>7/5/2016 22:56</td>\n",
       "      <td>2</td>\n",
       "      <td>San Francisco</td>\n",
       "      <td>US</td>\n",
       "      <td>gamesdonequick</td>\n",
       "      <td>SGDQ 2016 benefitting Doctors Without Borders ...</td>\n",
       "      <td>DinoCity</td>\n",
       "      <td>84981</td>\n",
       "      <td>474</td>\n",
       "      <td>non_community</td>\n",
       "      <td>0.0</td>\n",
       "    </tr>\n",
       "    <tr>\n",
       "      <th>2</th>\n",
       "      <td>7/4/2016 0:54</td>\n",
       "      <td>1</td>\n",
       "      <td>San Francisco</td>\n",
       "      <td>US</td>\n",
       "      <td>gamesdonequick</td>\n",
       "      <td>SGDQ 2016 benefitting Doctors Without Borders ...</td>\n",
       "      <td>Crystal's Pony Tale</td>\n",
       "      <td>79915</td>\n",
       "      <td>317</td>\n",
       "      <td>non_community</td>\n",
       "      <td>0.0</td>\n",
       "    </tr>\n",
       "    <tr>\n",
       "      <th>3</th>\n",
       "      <td>7/24/2016 12:14</td>\n",
       "      <td>0</td>\n",
       "      <td>Boardman</td>\n",
       "      <td>US</td>\n",
       "      <td>nalcs2</td>\n",
       "      <td>NA LCS: TSM vs. Team Envy</td>\n",
       "      <td>League of Legends</td>\n",
       "      <td>78054</td>\n",
       "      <td>318</td>\n",
       "      <td>non_community</td>\n",
       "      <td>0.0</td>\n",
       "    </tr>\n",
       "    <tr>\n",
       "      <th>4</th>\n",
       "      <td>6/25/2016 15:01</td>\n",
       "      <td>6</td>\n",
       "      <td>San Francisco</td>\n",
       "      <td>US</td>\n",
       "      <td>nalcs1</td>\n",
       "      <td>NA LCS: Liquid vs. Immortals</td>\n",
       "      <td>League of Legends</td>\n",
       "      <td>60552</td>\n",
       "      <td>138</td>\n",
       "      <td>non_community</td>\n",
       "      <td>0.0</td>\n",
       "    </tr>\n",
       "  </tbody>\n",
       "</table>\n",
       "</div>"
      ],
      "text/plain": [
       "              time  day_of_week           city country         channel  \\\n",
       "0  6/26/2016 13:31            0  San Francisco      US        faceittv   \n",
       "1   7/5/2016 22:56            2  San Francisco      US  gamesdonequick   \n",
       "2    7/4/2016 0:54            1  San Francisco      US  gamesdonequick   \n",
       "3  7/24/2016 12:14            0       Boardman      US          nalcs2   \n",
       "4  6/25/2016 15:01            6  San Francisco      US          nalcs1   \n",
       "\n",
       "                                              status  \\\n",
       "0  ECS Season 1 Wembley Finals - Luminosity vs. G...   \n",
       "1  SGDQ 2016 benefitting Doctors Without Borders ...   \n",
       "2  SGDQ 2016 benefitting Doctors Without Borders ...   \n",
       "3                          NA LCS: TSM vs. Team Envy   \n",
       "4                       NA LCS: Liquid vs. Immortals   \n",
       "\n",
       "                               game  avg_ccu  avg_chat_activity  \\\n",
       "0  Counter-Strike: Global Offensive   124222                863   \n",
       "1                          DinoCity    84981                474   \n",
       "2               Crystal's Pony Tale    79915                317   \n",
       "3                 League of Legends    78054                318   \n",
       "4                 League of Legends    60552                138   \n",
       "\n",
       "  preliminary_tag  community  \n",
       "0   non_community        0.0  \n",
       "1   non_community        0.0  \n",
       "2   non_community        0.0  \n",
       "3   non_community        0.0  \n",
       "4   non_community        0.0  "
      ]
     },
     "execution_count": 18,
     "metadata": {},
     "output_type": "execute_result"
    }
   ],
   "source": [
    "twitch = pd.read_csv('project-query-oct-16.csv')\n",
    "\n",
    "binary_mapping = {\n",
    "           'community': 1,\n",
    "           'non_community': 0}\n",
    "\n",
    "twitch['community'] = twitch['preliminary_tag'].map(binary_mapping)\n",
    "\n",
    "twitch.head(5)\n"
   ]
  },
  {
   "cell_type": "code",
   "execution_count": 19,
   "metadata": {
    "collapsed": false
   },
   "outputs": [
    {
     "name": "stdout",
     "output_type": "stream",
     "text": [
      "Null Accuracy:  0.943487948147\n"
     ]
    }
   ],
   "source": [
    "twitch = twitch.dropna()\n",
    "twitch.shape\n",
    "\n",
    "print 'Null Accuracy: ', (4937-279)/4937.0"
   ]
  },
  {
   "cell_type": "code",
   "execution_count": 20,
   "metadata": {
    "collapsed": true
   },
   "outputs": [],
   "source": [
    "from sklearn.base import TransformerMixin\n",
    "\n",
    "class MyCountVectorizer(TransformerMixin):\n",
    "    def transform(self, X, **transform_params): \n",
    "        return self.vec.transform(X['status'])\n",
    "\n",
    "    def fit(self, X, y=None, **fit_params):\n",
    "        self.vec = CountVectorizer()\n",
    "        self.vec.fit(X['status'])\n",
    "        return self\n",
    "\n",
    "\n"
   ]
  },
  {
   "cell_type": "code",
   "execution_count": 21,
   "metadata": {
    "collapsed": false
   },
   "outputs": [],
   "source": [
    "from sklearn.base import TransformerMixin\n",
    "\n",
    "class TwitchTransformer(TransformerMixin):\n",
    "    def transform(self, X, **transform_params): \n",
    "        game_dummies = pd.get_dummies(X['game'], prefix='game_').iloc[:, 1:]\n",
    "        new_X = pd.concat([X, game_dummies], axis = 1)\n",
    "\n",
    "        # concatenate the dummy variable columns onto the original DataFrame (axis=0 means rows, axis=1 means columns)\n",
    "        channel_dummies = pd.get_dummies(X['channel'], prefix='channel_').iloc[:, 1:]\n",
    "        new_X = pd.concat([new_X, channel_dummies], axis = 1)        \n",
    "        cols_to_remove = []\n",
    "        for col in self.g+self.c:\n",
    "            if col not in new_X.columns:\n",
    "                new_X[col] = [0]*(new_X.shape[0])\n",
    "        for col in new_X.columns:\n",
    "            if ('game_' in col or 'channel_' in col) and col not in self.g+self.c:\n",
    "                cols_to_remove.append(col)\n",
    "        new_X = new_X.drop(cols_to_remove+['time', 'city', 'country', 'channel', 'status', 'game', 'preliminary_tag'], axis=1)\n",
    "        \n",
    "        return new_X\n",
    "\n",
    "    def fit(self, X, y=None, **fit_params):\n",
    "        self.g = pd.get_dummies(X['game'], prefix='game_').iloc[:, 1:].columns\n",
    "        self.c = pd.get_dummies(X['channel'], prefix='channel_').iloc[:, 1:].columns\n",
    "        return self\n",
    "\n"
   ]
  },
  {
   "cell_type": "code",
   "execution_count": 22,
   "metadata": {
    "collapsed": false
   },
   "outputs": [],
   "source": [
    "X = twitch.drop('community', axis=1)\n",
    "y = twitch.community\n"
   ]
  },
  {
   "cell_type": "code",
   "execution_count": 26,
   "metadata": {
    "collapsed": false
   },
   "outputs": [
    {
     "name": "stderr",
     "output_type": "stream",
     "text": [
      "/Users/cathysun/anaconda2/lib/python2.7/site-packages/ipykernel/__main__.py:12: FutureWarning: using '+' to provide set union with Indexes is deprecated, use '|' or .union()\n",
      "/Users/cathysun/anaconda2/lib/python2.7/site-packages/ipykernel/__main__.py:16: FutureWarning: using '+' to provide set union with Indexes is deprecated, use '|' or .union()\n"
     ]
    },
    {
     "name": "stdout",
     "output_type": "stream",
     "text": [
      "GridSearchCV(cv=5, error_score='raise',\n",
      "       estimator=KNeighborsClassifier(algorithm='auto', leaf_size=30, metric='minkowski',\n",
      "           metric_params=None, n_jobs=1, n_neighbors=5, p=2,\n",
      "           weights='uniform'),\n",
      "       fit_params={}, iid=True, n_jobs=1,\n",
      "       param_grid={'n_neighbors': [2, 4, 6, 8, 10, 12, 14, 16, 18, 20, 22, 24, 26, 28, 30, 32, 34, 36, 38, 40, 42, 44, 46, 48, 50, 52, 54, 56, 58, 60, 62, 64, 66, 68, 70, 72, 74, 76, 78, 80, 82, 84, 86, 88, 90, 92, 94, 96, 98]},\n",
      "       pre_dispatch='2*n_jobs', refit=True, scoring='accuracy', verbose=0)\n",
      "0.717237188576\n",
      "{'n_neighbors': 98}\n",
      "KNeighborsClassifier(algorithm='auto', leaf_size=30, metric='minkowski',\n",
      "           metric_params=None, n_jobs=1, n_neighbors=98, p=2,\n",
      "           weights='uniform')\n"
     ]
    }
   ],
   "source": [
    "knn = KNeighborsClassifier()\n",
    "trans = TwitchTransformer()\n",
    "\n",
    "# k_range = range(1, 1000, 50)\n",
    "# param_grid = dict(n_neighbors=k_range)\n",
    "data = pd.DataFrame(trans.fit_transform(X))\n",
    "\n",
    "grid = GridSearchCV(knn, param_grid, cv=5, scoring='accuracy')\n",
    "print grid.fit(data, y)\n",
    "print grid.best_score_ \n",
    "print grid.best_params_ \n",
    "print grid.best_estimator_ \n"
   ]
  },
  {
   "cell_type": "code",
   "execution_count": 13,
   "metadata": {
    "collapsed": false
   },
   "outputs": [
    {
     "name": "stderr",
     "output_type": "stream",
     "text": [
      "/Users/cathysun/anaconda2/lib/python2.7/site-packages/ipykernel/__main__.py:12: FutureWarning: using '+' to provide set union with Indexes is deprecated, use '|' or .union()\n",
      "/Users/cathysun/anaconda2/lib/python2.7/site-packages/ipykernel/__main__.py:16: FutureWarning: using '+' to provide set union with Indexes is deprecated, use '|' or .union()\n"
     ]
    },
    {
     "name": "stdout",
     "output_type": "stream",
     "text": [
      "1 0.943488552383\n",
      "2 0.943488552383\n",
      "3 0.943488552383\n",
      "4 0.94308287287\n",
      "5 0.943488552383\n",
      "6 0.887820536188\n",
      "7 0.888022965338\n",
      "8 0.888832681937\n",
      "9 0.888832681937\n",
      "10 0.889439969387\n"
     ]
    }
   ],
   "source": [
    "logreg = LogisticRegression()\n",
    "trans = TwitchTransformer()\n",
    "\n",
    "for i in range(1,11):\n",
    "    feature_filter = SelectKBest(k=i)\n",
    "    pipe = Pipeline([ \n",
    "      ('non_text_features', trans),\n",
    "      ('anova', feature_filter),\n",
    "      ('classifier', logreg)\n",
    "    ])\n",
    "    mean = cross_val_score(pipe, X, y, cv=10, scoring='accuracy').mean()\n",
    "    print i, mean\n"
   ]
  },
  {
   "cell_type": "code",
   "execution_count": 14,
   "metadata": {
    "collapsed": false
   },
   "outputs": [
    {
     "name": "stderr",
     "output_type": "stream",
     "text": [
      "/Users/cathysun/anaconda2/lib/python2.7/site-packages/ipykernel/__main__.py:12: FutureWarning: using '+' to provide set union with Indexes is deprecated, use '|' or .union()\n",
      "/Users/cathysun/anaconda2/lib/python2.7/site-packages/ipykernel/__main__.py:16: FutureWarning: using '+' to provide set union with Indexes is deprecated, use '|' or .union()\n"
     ]
    },
    {
     "name": "stdout",
     "output_type": "stream",
     "text": [
      "1 0.943488552383\n",
      "2 0.943488552383\n",
      "3 0.943488552383\n",
      "4 0.943488552383\n",
      "5 0.943488552383\n",
      "6 0.943488552383\n",
      "7 0.943488552383\n",
      "8 0.943488552383\n",
      "9 0.943488552383\n",
      "10 0.943488552383\n"
     ]
    }
   ],
   "source": [
    "nb = MultinomialNB()\n",
    "\n",
    "for i in range(1,11):\n",
    "    feature_filter = SelectKBest(k=i)\n",
    "    pipe = Pipeline([ \n",
    "      ('non_text_features', trans),\n",
    "      ('anova', feature_filter),\n",
    "      ('classifier', nb)\n",
    "    ])\n",
    "    mean = cross_val_score(pipe, X, y, cv=10, scoring='accuracy').mean()\n",
    "    print i, mean\n",
    "\n"
   ]
  },
  {
   "cell_type": "code",
   "execution_count": 15,
   "metadata": {
    "collapsed": false
   },
   "outputs": [
    {
     "name": "stderr",
     "output_type": "stream",
     "text": [
      "/Users/cathysun/anaconda2/lib/python2.7/site-packages/ipykernel/__main__.py:12: FutureWarning: using '+' to provide set union with Indexes is deprecated, use '|' or .union()\n",
      "/Users/cathysun/anaconda2/lib/python2.7/site-packages/ipykernel/__main__.py:16: FutureWarning: using '+' to provide set union with Indexes is deprecated, use '|' or .union()\n"
     ]
    },
    {
     "name": "stdout",
     "output_type": "stream",
     "text": [
      "1 0.943488552383\n",
      "2 0.943488552383\n",
      "3 0.943488552383\n",
      "4 0.94308287287\n",
      "5 0.943488552383\n",
      "6 0.857456163719\n",
      "7 0.857456163719\n",
      "8 0.809278026067\n",
      "9 0.276545273605\n",
      "10 0.343144463889\n"
     ]
    }
   ],
   "source": [
    "rf = RandomForestClassifier()\n",
    "\n",
    "for i in range(1,11):\n",
    "    feature_filter = SelectKBest(k=i)\n",
    "    pipe = Pipeline([ \n",
    "      ('non_text_features', trans),\n",
    "      ('anova', feature_filter),\n",
    "      ('classifier', rf)\n",
    "    ])\n",
    "    mean = cross_val_score(pipe, X, y, cv=10, scoring='accuracy').mean()\n",
    "    print i, mean\n"
   ]
  },
  {
   "cell_type": "code",
   "execution_count": 52,
   "metadata": {
    "collapsed": false
   },
   "outputs": [
    {
     "name": "stdout",
     "output_type": "stream",
     "text": [
      "GridSearchCV(cv=5, error_score='raise',\n",
      "       estimator=KNeighborsClassifier(algorithm='auto', leaf_size=30, metric='minkowski',\n",
      "           metric_params=None, n_jobs=1, n_neighbors=5, p=2,\n",
      "           weights='uniform'),\n",
      "       fit_params={}, iid=True, n_jobs=1,\n",
      "       param_grid={'n_neighbors': [2, 4, 6, 8, 10, 12, 14, 16, 18, 20, 22, 24, 26, 28, 30, 32, 34, 36, 38, 40, 42, 44, 46, 48, 50, 52, 54, 56, 58, 60, 62, 64, 66, 68, 70, 72, 74, 76, 78, 80, 82, 84, 86, 88, 90, 92, 94, 96, 98]},\n",
      "       pre_dispatch='2*n_jobs', refit=True, scoring='accuracy', verbose=0)\n",
      "0.974275876038\n",
      "{'n_neighbors': 2}\n",
      "KNeighborsClassifier(algorithm='auto', leaf_size=30, metric='minkowski',\n",
      "           metric_params=None, n_jobs=1, n_neighbors=2, p=2,\n",
      "           weights='uniform')\n"
     ]
    }
   ],
   "source": [
    "knn = KNeighborsClassifier()\n",
    "count = MyCountVectorizer()\n",
    "\n",
    "k_range = range(2,100,2)\n",
    "param_grid = dict(n_neighbors=k_range)\n",
    "data = count.fit_transform(X)\n",
    "\n",
    "grid = GridSearchCV(knn, param_grid, cv=5, scoring='accuracy')\n",
    "print grid.fit(data, y)\n",
    "print grid.best_score_ \n",
    "print grid.best_params_\n",
    "print grid.best_estimator_ \n",
    "\n"
   ]
  },
  {
   "cell_type": "code",
   "execution_count": 16,
   "metadata": {
    "collapsed": false
   },
   "outputs": [
    {
     "data": {
      "text/plain": [
       "0.97974803998682591"
      ]
     },
     "execution_count": 16,
     "metadata": {},
     "output_type": "execute_result"
    }
   ],
   "source": [
    "logreg = LogisticRegression()\n",
    "count = MyCountVectorizer()\n",
    "\n",
    "pipe = Pipeline([ \n",
    "  ('count', count),\n",
    "  ('classifier', logreg)\n",
    "])\n",
    "\n",
    "mean = cross_val_score(pipe, X, y, cv=10, scoring='accuracy').mean()\n",
    "mean"
   ]
  },
  {
   "cell_type": "code",
   "execution_count": 17,
   "metadata": {
    "collapsed": false
   },
   "outputs": [
    {
     "data": {
      "text/plain": [
       "0.97061775725500488"
      ]
     },
     "execution_count": 17,
     "metadata": {},
     "output_type": "execute_result"
    }
   ],
   "source": [
    "nb = MultinomialNB()\n",
    "\n",
    "pipe = Pipeline([ \n",
    "  ('count', count),\n",
    "  ('classifier', nb)\n",
    "])\n",
    "\n",
    "mean = cross_val_score(pipe, X, y, cv=10, scoring='accuracy').mean()\n",
    "mean"
   ]
  },
  {
   "cell_type": "code",
   "execution_count": 18,
   "metadata": {
    "collapsed": false
   },
   "outputs": [
    {
     "data": {
      "text/plain": [
       "0.98015331056234911"
      ]
     },
     "execution_count": 18,
     "metadata": {},
     "output_type": "execute_result"
    }
   ],
   "source": [
    "rf = RandomForestClassifier()\n",
    "\n",
    "pipe = Pipeline([ \n",
    "  ('count', count),\n",
    "  ('classifier', rf)\n",
    "])\n",
    "\n",
    "mean = cross_val_score(pipe, X, y, cv=10, scoring='accuracy').mean()\n",
    "mean"
   ]
  },
  {
   "cell_type": "code",
   "execution_count": 31,
   "metadata": {
    "collapsed": false
   },
   "outputs": [
    {
     "name": "stderr",
     "output_type": "stream",
     "text": [
      "/Users/cathysun/anaconda2/lib/python2.7/site-packages/ipykernel/__main__.py:12: FutureWarning: using '+' to provide set union with Indexes is deprecated, use '|' or .union()\n",
      "/Users/cathysun/anaconda2/lib/python2.7/site-packages/ipykernel/__main__.py:16: FutureWarning: using '+' to provide set union with Indexes is deprecated, use '|' or .union()\n"
     ]
    },
    {
     "data": {
      "text/plain": [
       "0.94348855238271123"
      ]
     },
     "execution_count": 31,
     "metadata": {},
     "output_type": "execute_result"
    }
   ],
   "source": [
    "knn = KNeighborsClassifier(n_neighbors=201)\n",
    "count = MyCountVectorizer()\n",
    "param_grid = dict(n_neighbors=k_range)\n",
    "\n",
    "\n",
    "feature_change = FeatureUnion([\n",
    "        ('counts', MyCountVectorizer()),\n",
    "        ('other_features', TwitchTransformer())\n",
    "  ])\n",
    "\n",
    "pipe = Pipeline([ \n",
    "  ('features', feature_change),\n",
    "  ('classifier', knn)\n",
    "])\n",
    "\n",
    "mean = cross_val_score(pipe, X, y, cv=10, scoring='accuracy').mean()\n",
    "mean\n",
    "\n",
    "# grid = GridSearchCV(pipe, param_grid, cv=5, scoring='accuracy')\n",
    "# print grid.fit(X, y)\n",
    "# print grid.best_score_ \n",
    "# print grid.best_params_\n",
    "# print grid.best_estimator_ \n",
    "\n"
   ]
  },
  {
   "cell_type": "code",
   "execution_count": 19,
   "metadata": {
    "collapsed": false
   },
   "outputs": [
    {
     "name": "stderr",
     "output_type": "stream",
     "text": [
      "/Users/cathysun/anaconda2/lib/python2.7/site-packages/ipykernel/__main__.py:12: FutureWarning: using '+' to provide set union with Indexes is deprecated, use '|' or .union()\n",
      "/Users/cathysun/anaconda2/lib/python2.7/site-packages/ipykernel/__main__.py:16: FutureWarning: using '+' to provide set union with Indexes is deprecated, use '|' or .union()\n"
     ]
    },
    {
     "data": {
      "text/plain": [
       "0.93581515597082721"
      ]
     },
     "execution_count": 19,
     "metadata": {},
     "output_type": "execute_result"
    }
   ],
   "source": [
    "logreg = LogisticRegression()\n",
    "\n",
    "feature_change = FeatureUnion([\n",
    "        ('counts', MyCountVectorizer()),\n",
    "        ('other_features', TwitchTransformer())\n",
    "  ])\n",
    "\n",
    "pipe = Pipeline([ \n",
    "  ('features', feature_change),\n",
    "  ('classifier', logreg)\n",
    "])\n",
    "\n",
    "mean = cross_val_score(pipe, X, y, cv=10, scoring='accuracy').mean()\n",
    "mean\n"
   ]
  },
  {
   "cell_type": "code",
   "execution_count": 20,
   "metadata": {
    "collapsed": false
   },
   "outputs": [
    {
     "name": "stderr",
     "output_type": "stream",
     "text": [
      "/Users/cathysun/anaconda2/lib/python2.7/site-packages/ipykernel/__main__.py:12: FutureWarning: using '+' to provide set union with Indexes is deprecated, use '|' or .union()\n",
      "/Users/cathysun/anaconda2/lib/python2.7/site-packages/ipykernel/__main__.py:16: FutureWarning: using '+' to provide set union with Indexes is deprecated, use '|' or .union()\n"
     ]
    },
    {
     "data": {
      "text/plain": [
       "0.94248997501841547"
      ]
     },
     "execution_count": 20,
     "metadata": {},
     "output_type": "execute_result"
    }
   ],
   "source": [
    "nb = MultinomialNB()\n",
    "\n",
    "feature_change = FeatureUnion([\n",
    "        ('counts', MyCountVectorizer()),\n",
    "        ('other_features', TwitchTransformer())\n",
    "  ])\n",
    "\n",
    "pipe = Pipeline([ \n",
    "  ('features', feature_change),\n",
    "  ('classifier', nb)\n",
    "])\n",
    "\n",
    "mean = cross_val_score(pipe, X, y, cv=10, scoring='accuracy').mean()\n",
    "mean\n",
    "\n"
   ]
  },
  {
   "cell_type": "code",
   "execution_count": 21,
   "metadata": {
    "collapsed": false
   },
   "outputs": [
    {
     "name": "stderr",
     "output_type": "stream",
     "text": [
      "/Users/cathysun/anaconda2/lib/python2.7/site-packages/ipykernel/__main__.py:12: FutureWarning: using '+' to provide set union with Indexes is deprecated, use '|' or .union()\n",
      "/Users/cathysun/anaconda2/lib/python2.7/site-packages/ipykernel/__main__.py:16: FutureWarning: using '+' to provide set union with Indexes is deprecated, use '|' or .union()\n"
     ]
    },
    {
     "data": {
      "text/plain": [
       "0.97124765979164018"
      ]
     },
     "execution_count": 21,
     "metadata": {},
     "output_type": "execute_result"
    }
   ],
   "source": [
    "rf = RandomForestClassifier()\n",
    "\n",
    "\n",
    "feature_change = FeatureUnion([\n",
    "        ('counts', MyCountVectorizer()),\n",
    "        ('other_features', TwitchTransformer())\n",
    "  ])\n",
    "\n",
    "pipe = Pipeline([ \n",
    "  ('features', feature_change),\n",
    "  ('classifier', rf)\n",
    "])\n",
    "\n",
    "mean = cross_val_score(pipe, X, y, cv=10, scoring='accuracy').mean()\n",
    "mean\n"
   ]
  },
  {
   "cell_type": "code",
   "execution_count": null,
   "metadata": {
    "collapsed": true
   },
   "outputs": [],
   "source": []
  }
 ],
 "metadata": {
  "anaconda-cloud": {},
  "kernelspec": {
   "display_name": "Python [default]",
   "language": "python",
   "name": "python2"
  },
  "language_info": {
   "codemirror_mode": {
    "name": "ipython",
    "version": 2
   },
   "file_extension": ".py",
   "mimetype": "text/x-python",
   "name": "python",
   "nbconvert_exporter": "python",
   "pygments_lexer": "ipython2",
   "version": "2.7.12"
  }
 },
 "nbformat": 4,
 "nbformat_minor": 0
}
